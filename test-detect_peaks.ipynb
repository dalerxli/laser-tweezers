{
 "cells": [
  {
   "cell_type": "code",
   "execution_count": 1,
   "metadata": {
    "ExecuteTime": {
     "end_time": "2017-11-15T12:04:45.592640",
     "start_time": "2017-11-15T12:04:45.584261"
    },
    "collapsed": false
   },
   "outputs": [],
   "source": [
    "import numpy as np\n",
    "import matplotlib.pyplot as plt\n",
    "# %matplotlib nbagg\n",
    "%matplotlib inline\n",
    "from detect_peaks import detect_peaks"
   ]
  },
  {
   "cell_type": "code",
   "execution_count": 2,
   "metadata": {
    "ExecuteTime": {
     "end_time": "2017-11-15T12:05:04.814858",
     "start_time": "2017-11-15T12:05:04.776421"
    },
    "collapsed": false
   },
   "outputs": [
    {
     "data": {
      "text/html": [
       "<div>\n",
       "<table border=\"1\" class=\"dataframe\">\n",
       "  <thead>\n",
       "    <tr style=\"text-align: right;\">\n",
       "      <th></th>\n",
       "      <th>Hz</th>\n",
       "      <th>Test_Data-1</th>\n",
       "      <th>Test_Data-2</th>\n",
       "      <th>Test_Data-3</th>\n",
       "    </tr>\n",
       "  </thead>\n",
       "  <tbody>\n",
       "    <tr>\n",
       "      <th>0</th>\n",
       "      <td>0.033333</td>\n",
       "      <td>1.542829e-20</td>\n",
       "      <td>1.542829e-20</td>\n",
       "      <td>1.542829e-20</td>\n",
       "    </tr>\n",
       "    <tr>\n",
       "      <th>1</th>\n",
       "      <td>0.066667</td>\n",
       "      <td>1.615678e-20</td>\n",
       "      <td>1.615678e-20</td>\n",
       "      <td>1.615678e-20</td>\n",
       "    </tr>\n",
       "    <tr>\n",
       "      <th>2</th>\n",
       "      <td>0.100000</td>\n",
       "      <td>2.142272e-20</td>\n",
       "      <td>2.142272e-20</td>\n",
       "      <td>2.142272e-20</td>\n",
       "    </tr>\n",
       "    <tr>\n",
       "      <th>3</th>\n",
       "      <td>0.133333</td>\n",
       "      <td>1.793353e-20</td>\n",
       "      <td>1.793353e-20</td>\n",
       "      <td>1.793353e-20</td>\n",
       "    </tr>\n",
       "    <tr>\n",
       "      <th>4</th>\n",
       "      <td>0.166667</td>\n",
       "      <td>3.301479e-20</td>\n",
       "      <td>3.301479e-20</td>\n",
       "      <td>3.301479e-20</td>\n",
       "    </tr>\n",
       "  </tbody>\n",
       "</table>\n",
       "</div>"
      ],
      "text/plain": [
       "         Hz   Test_Data-1   Test_Data-2   Test_Data-3\n",
       "0  0.033333  1.542829e-20  1.542829e-20  1.542829e-20\n",
       "1  0.066667  1.615678e-20  1.615678e-20  1.615678e-20\n",
       "2  0.100000  2.142272e-20  2.142272e-20  2.142272e-20\n",
       "3  0.133333  1.793353e-20  1.793353e-20  1.793353e-20\n",
       "4  0.166667  3.301479e-20  3.301479e-20  3.301479e-20"
      ]
     },
     "execution_count": 2,
     "metadata": {},
     "output_type": "execute_result"
    }
   ],
   "source": [
    "#test data\n",
    "psd_file = 'test_data/test_data_AFM_psd.csv'\n",
    "psd = pd.read_csv(psd_file, sep=',')\n",
    "\n",
    "# psd.rename(columns = {'Test_Data-1':'psd'}, inplace = True)\n",
    "psd.head()"
   ]
  },
  {
   "cell_type": "code",
   "execution_count": 77,
   "metadata": {
    "ExecuteTime": {
     "end_time": "2017-11-15T16:39:31.781482",
     "start_time": "2017-11-15T16:39:31.734014"
    },
    "collapsed": false
   },
   "outputs": [
    {
     "data": {
      "text/html": [
       "<div>\n",
       "<table border=\"1\" class=\"dataframe\">\n",
       "  <thead>\n",
       "    <tr style=\"text-align: right;\">\n",
       "      <th></th>\n",
       "      <th>Hz</th>\n",
       "      <th>Test_Data-1</th>\n",
       "      <th>Test_Data-2</th>\n",
       "      <th>Test_Data-3</th>\n",
       "    </tr>\n",
       "  </thead>\n",
       "  <tbody>\n",
       "    <tr>\n",
       "      <th>100</th>\n",
       "      <td>3.366667</td>\n",
       "      <td>0.000000e+00</td>\n",
       "      <td>0.000000e+00</td>\n",
       "      <td>2.000000e-13</td>\n",
       "    </tr>\n",
       "    <tr>\n",
       "      <th>5000</th>\n",
       "      <td>166.700000</td>\n",
       "      <td>0.000000e+00</td>\n",
       "      <td>2.000000e-13</td>\n",
       "      <td>0.000000e+00</td>\n",
       "    </tr>\n",
       "    <tr>\n",
       "      <th>10000</th>\n",
       "      <td>333.366667</td>\n",
       "      <td>2.000000e-13</td>\n",
       "      <td>0.000000e+00</td>\n",
       "      <td>0.000000e+00</td>\n",
       "    </tr>\n",
       "    <tr>\n",
       "      <th>13336</th>\n",
       "      <td>444.566667</td>\n",
       "      <td>1.247321e-14</td>\n",
       "      <td>1.247321e-14</td>\n",
       "      <td>1.247321e-14</td>\n",
       "    </tr>\n",
       "    <tr>\n",
       "      <th>17500</th>\n",
       "      <td>583.366667</td>\n",
       "      <td>1.345013e-14</td>\n",
       "      <td>1.345013e-14</td>\n",
       "      <td>1.345013e-14</td>\n",
       "    </tr>\n",
       "    <tr>\n",
       "      <th>17709</th>\n",
       "      <td>590.333333</td>\n",
       "      <td>3.225882e-13</td>\n",
       "      <td>3.225882e-13</td>\n",
       "      <td>3.225882e-13</td>\n",
       "    </tr>\n",
       "    <tr>\n",
       "      <th>17721</th>\n",
       "      <td>590.733333</td>\n",
       "      <td>2.852620e-14</td>\n",
       "      <td>2.852620e-14</td>\n",
       "      <td>2.852620e-14</td>\n",
       "    </tr>\n",
       "    <tr>\n",
       "      <th>22090</th>\n",
       "      <td>736.366667</td>\n",
       "      <td>1.345621e-14</td>\n",
       "      <td>1.345621e-14</td>\n",
       "      <td>1.345621e-14</td>\n",
       "    </tr>\n",
       "  </tbody>\n",
       "</table>\n",
       "</div>"
      ],
      "text/plain": [
       "               Hz   Test_Data-1   Test_Data-2   Test_Data-3\n",
       "100      3.366667  0.000000e+00  0.000000e+00  2.000000e-13\n",
       "5000   166.700000  0.000000e+00  2.000000e-13  0.000000e+00\n",
       "10000  333.366667  2.000000e-13  0.000000e+00  0.000000e+00\n",
       "13336  444.566667  1.247321e-14  1.247321e-14  1.247321e-14\n",
       "17500  583.366667  1.345013e-14  1.345013e-14  1.345013e-14\n",
       "17709  590.333333  3.225882e-13  3.225882e-13  3.225882e-13\n",
       "17721  590.733333  2.852620e-14  2.852620e-14  2.852620e-14\n",
       "22090  736.366667  1.345621e-14  1.345621e-14  1.345621e-14"
      ]
     },
     "execution_count": 77,
     "metadata": {},
     "output_type": "execute_result"
    }
   ],
   "source": [
    "# test can we iterate over a df columns except for first (Hz)\n",
    "\n",
    "# Setup zeros df of same size\n",
    "psd_no_hz = psd.iloc[:, range(1, len(psd.columns))]\n",
    "zeros_df = pd.DataFrame(np.zeros_like(psd_no_hz),\n",
    "                       index=psd_no_hz.index, columns=psd_no_hz.columns)\n",
    "\n",
    "psd_no_hz = \"\"\n",
    "\n",
    "# function params to be\n",
    "space = 10 \n",
    "thresh_sd = 3 \n",
    "\n",
    "for i in range(1, len(psd.columns)):\n",
    "    y = psd.iloc[:, i]\n",
    "    thresh = np.mean(y) + thresh_sd*np.std(y)\n",
    "    ind = detect_peaks(x, mph=thresh, mpd=space)\n",
    "    # we need to set up a zeroes or nan df, then fill with ind\n",
    "    # then rm any rows that are all zero or nan\n",
    "    zeros_df.iloc[ind, i-1] = psd.iloc[ind, i]\n",
    "    \n",
    "# make some bullshit to test\n",
    "zeros_df.iloc[100, 2] = 2e-13\n",
    "zeros_df.iloc[10000, 0] = 2e-13\n",
    "zeros_df.iloc[5000, 1] = 2e-13\n",
    "\n",
    "# zeros_df.plot(y=zeros_df.columns)\n",
    "\n",
    "# take only rows in which any column contains a non-zero\n",
    "zeros_df = zeros_df.loc[(zeros_df!=0).any(axis=1)]\n",
    "\n",
    "# print psd.shape\n",
    "# print zeros_df.shape\n",
    "\n",
    "rows = zeros_df.index\n",
    "hz_peaks = psd.iloc[:,0].loc[rows]\n",
    "\n",
    "# re integrate hz \n",
    "zeros_df.insert(0, 'Hz', hz_peaks)\n",
    "zeros_df"
   ]
  },
  {
   "cell_type": "markdown",
   "metadata": {},
   "source": [
    "### options for peak file output\n",
    "1. Matrix Data\n",
    "  1. full zeros matrix\n",
    "  2. **only freqs that contain _at least 1 peak in this data set_**\n",
    "2. Tidy Data"
   ]
  },
  {
   "cell_type": "markdown",
   "metadata": {},
   "source": [
    "----\n",
    "# Test Output"
   ]
  },
  {
   "cell_type": "code",
   "execution_count": 80,
   "metadata": {
    "ExecuteTime": {
     "end_time": "2017-11-15T18:33:49.502903",
     "start_time": "2017-11-15T18:33:49.487549"
    },
    "collapsed": false
   },
   "outputs": [
    {
     "name": "stdout",
     "output_type": "stream",
     "text": [
      "           Hz   Test_Data-1   Test_Data-2   Test_Data-3\n",
      "0  444.566667  1.247321e-14  1.247321e-14  1.247321e-14\n",
      "1  583.366667  1.345013e-14  1.345013e-14  1.345013e-14\n",
      "2  590.333333  3.225882e-13  3.225882e-13  3.225882e-13\n",
      "3  590.733333  2.852620e-14  2.852620e-14  2.852620e-14\n",
      "4  736.366667  1.345621e-14  1.345621e-14  1.345621e-14\n",
      "(5, 4)\n",
      "           Hz   Test_Data-1   Test_Data-2   Test_Data-3\n",
      "0  444.566667  1.247321e-14  1.247321e-14  1.247321e-14\n",
      "1  583.366667  1.345013e-14  1.345013e-14  1.345013e-14\n",
      "2  590.333333  3.225882e-13  3.225882e-13  3.225882e-13\n",
      "3  590.733333  2.852620e-14  2.852620e-14  2.852620e-14\n",
      "4  736.366667  1.345621e-14  1.345621e-14  1.345621e-14\n"
     ]
    }
   ],
   "source": [
    "infile = 'test_data/test_data_AFM_psd_peaks.csv'\n",
    "psd = pd.read_csv(infile, sep=',')\n",
    "print psd.head()\n",
    "print psd.shape\n",
    "print psd"
   ]
  }
 ],
 "metadata": {
  "anaconda-cloud": {},
  "hide_input": false,
  "kernelspec": {
   "display_name": "Python [default]",
   "language": "python",
   "name": "python2"
  },
  "language_info": {
   "codemirror_mode": {
    "name": "ipython",
    "version": 2
   },
   "file_extension": ".py",
   "mimetype": "text/x-python",
   "name": "python",
   "nbconvert_exporter": "python",
   "pygments_lexer": "ipython2",
   "version": "2.7.12"
  },
  "toc": {
   "colors": {
    "hover_highlight": "#DAA520",
    "running_highlight": "#FF0000",
    "selected_highlight": "#FFD700"
   },
   "moveMenuLeft": true,
   "nav_menu": {
    "height": "12px",
    "width": "252px"
   },
   "navigate_menu": true,
   "number_sections": false,
   "sideBar": true,
   "threshold": 4,
   "toc_cell": false,
   "toc_section_display": "block",
   "toc_window_display": false
  }
 },
 "nbformat": 4,
 "nbformat_minor": 1
}
